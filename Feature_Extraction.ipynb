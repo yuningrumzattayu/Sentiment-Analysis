{
  "nbformat": 4,
  "nbformat_minor": 0,
  "metadata": {
    "colab": {
      "provenance": [],
      "authorship_tag": "ABX9TyOsUMqVEQS/3Be2/+Jp3fic",
      "include_colab_link": true
    },
    "kernelspec": {
      "name": "python3",
      "display_name": "Python 3"
    },
    "language_info": {
      "name": "python"
    }
  },
  "cells": [
    {
      "cell_type": "markdown",
      "metadata": {
        "id": "view-in-github",
        "colab_type": "text"
      },
      "source": [
        "<a href=\"https://colab.research.google.com/github/yuningrumzattayu/Sentiment-Analysis/blob/main/Feature_Extraction.ipynb\" target=\"_parent\"><img src=\"https://colab.research.google.com/assets/colab-badge.svg\" alt=\"Open In Colab\"/></a>"
      ]
    },
    {
      "cell_type": "code",
      "execution_count": 1,
      "metadata": {
        "id": "R7DJFA9spnhQ"
      },
      "outputs": [],
      "source": [
        "from gensim.models import Word2Vec\n",
        "from nltk.tokenize import word_tokenize\n",
        "import nltk"
      ]
    },
    {
      "cell_type": "code",
      "source": [
        "nltk.download('punkt')"
      ],
      "metadata": {
        "colab": {
          "base_uri": "https://localhost:8080/"
        },
        "id": "239buRPCqGs4",
        "outputId": "f613e180-6dd9-48a5-d570-20adf3aec7c6"
      },
      "execution_count": 2,
      "outputs": [
        {
          "output_type": "stream",
          "name": "stderr",
          "text": [
            "[nltk_data] Downloading package punkt to /root/nltk_data...\n",
            "[nltk_data]   Unzipping tokenizers/punkt.zip.\n"
          ]
        },
        {
          "output_type": "execute_result",
          "data": {
            "text/plain": [
              "True"
            ]
          },
          "metadata": {},
          "execution_count": 2
        }
      ]
    },
    {
      "cell_type": "code",
      "source": [
        "text_data = [\n",
        "    'Saya suka makan bakso',\n",
        "    'Bakso enak dan lezat',\n",
        "    'Makanan favorit saya adalah nasi goreng',\n",
        "    'Nasi goreng pedas adalah makanan favorit saya',\n",
        "    'Saya suka makanan manis seperti es krim',\n",
        "]"
      ],
      "metadata": {
        "id": "pf_u7mS6qK0v"
      },
      "execution_count": 3,
      "outputs": []
    },
    {
      "cell_type": "code",
      "source": [
        "# Tokenasi data\n",
        "tokenized_data = [word_tokenize(sentence.lower()) for sentence in text_data]"
      ],
      "metadata": {
        "id": "WdGzDSFdqUg6"
      },
      "execution_count": 4,
      "outputs": []
    },
    {
      "cell_type": "code",
      "source": [
        "model = Word2Vec(sentences=tokenized_data, vector_size=100, window=5, min_count=1, workers=4)"
      ],
      "metadata": {
        "id": "BjOUJmNgqaty"
      },
      "execution_count": 5,
      "outputs": []
    },
    {
      "cell_type": "code",
      "source": [
        "word_vectors = model.wv\n",
        "\n",
        "similar_words = word_vectors.most_similar('bakso', topn=3)\n",
        "print(\"Kata-kata yang mirip dengan 'bakso':\", similar_words)\n",
        "\n",
        "vector = word_vectors['bakso']\n",
        "print(\"Vektor untuk 'bakso':\", vector)"
      ],
      "metadata": {
        "colab": {
          "base_uri": "https://localhost:8080/"
        },
        "id": "2rdZOXE6qquu",
        "outputId": "e7df7a9d-b655-4762-d81c-abe4d8e5d6fd"
      },
      "execution_count": 6,
      "outputs": [
        {
          "output_type": "stream",
          "name": "stdout",
          "text": [
            "Kata-kata yang mirip dengan 'bakso': [('manis', 0.2529163062572479), ('nasi', 0.17018672823905945), ('enak', 0.15006466209888458)]\n",
            "Vektor untuk 'bakso': [-0.00713882  0.00124156 -0.00717766 -0.00224369  0.00371885  0.00583258\n",
            "  0.00119832  0.00210183 -0.00411138  0.00722588 -0.00630644  0.00464789\n",
            " -0.00821918  0.00203677 -0.00497649 -0.00424685 -0.00310906  0.00565491\n",
            "  0.00579776 -0.00497439  0.00077378 -0.0084959   0.00780977  0.00925648\n",
            " -0.00274235  0.0007995   0.00074748  0.00547704 -0.00860589  0.00058358\n",
            "  0.00687019  0.00223141  0.00112457 -0.00932216  0.00848288 -0.0062632\n",
            " -0.00299165  0.00349458 -0.00077282  0.00141124  0.00178217 -0.00682961\n",
            " -0.00972456  0.00904072  0.00619895 -0.00691193  0.00340259  0.00020664\n",
            "  0.00475438 -0.00712046  0.00402629  0.00434812  0.00995727 -0.00447314\n",
            " -0.00138943 -0.00731689 -0.00969748 -0.00908048 -0.00102362 -0.00650396\n",
            "  0.0048507  -0.00616346  0.0025184   0.00073924 -0.00339173 -0.00097928\n",
            "  0.00997817  0.009146   -0.00446089  0.00908287 -0.00564239  0.00593029\n",
            " -0.00309763  0.00343232  0.00301726  0.00690047 -0.00237434  0.00877584\n",
            "  0.00759023 -0.00954767 -0.00800735 -0.00763848  0.0029233  -0.00279572\n",
            " -0.00692899 -0.00812822  0.0083084   0.0019909  -0.00932751 -0.00479288\n",
            "  0.00313647 -0.00471295  0.0052802  -0.00423267  0.00264146 -0.00804574\n",
            "  0.00620901  0.00481829  0.00078651  0.00301266]\n"
          ]
        }
      ]
    },
    {
      "cell_type": "markdown",
      "source": [
        "Term Frequency Inverse Document Frequency (TF-IDF)\n"
      ],
      "metadata": {
        "id": "LELalJRaraYx"
      }
    },
    {
      "cell_type": "code",
      "source": [
        "from sklearn.feature_extraction.text import TfidfVectorizer"
      ],
      "metadata": {
        "id": "3coUhH3grjiw"
      },
      "execution_count": 7,
      "outputs": []
    },
    {
      "cell_type": "code",
      "source": [
        "documents = [\n",
        "    \"Saya suka makan bakso\",\n",
        "    \"Bakso enak dan lezat\",\n",
        "    \"Makanan favorit saya adalah nasi goreng\",\n",
        "    \"Nasi goreng pedas adalah makanan favorit saya\",\n",
        "    \"Saya suka makanan manis seperti es krim\",\n",
        "]"
      ],
      "metadata": {
        "id": "LKu2bDf0scGz"
      },
      "execution_count": 8,
      "outputs": []
    },
    {
      "cell_type": "code",
      "source": [
        "# inisialisasi project\n",
        "tfidf_vectorizer = TfidfVectorizer()"
      ],
      "metadata": {
        "id": "lVYBEs4Ws-Sj"
      },
      "execution_count": 9,
      "outputs": []
    },
    {
      "cell_type": "code",
      "source": [
        "# menghitung tf-idf\n",
        "tfidf_matrix = tfidf_vectorizer.fit_transform(documents)"
      ],
      "metadata": {
        "id": "7VeCGan6tCDZ"
      },
      "execution_count": 10,
      "outputs": []
    },
    {
      "cell_type": "code",
      "source": [
        "# melihat vocabulary (kata unik) yang dihasilkan oleh TfidfVectorizer\n",
        "print(\"Vocabulary:\", tfidf_vectorizer.vocabulary_)"
      ],
      "metadata": {
        "colab": {
          "base_uri": "https://localhost:8080/"
        },
        "id": "m9oTFsLhtNaq",
        "outputId": "15507c97-817c-4542-ff37-3700dbe8e662"
      },
      "execution_count": 11,
      "outputs": [
        {
          "output_type": "stream",
          "name": "stdout",
          "text": [
            "Vocabulary: {'saya': 14, 'suka': 16, 'makan': 9, 'bakso': 1, 'enak': 3, 'dan': 2, 'lezat': 8, 'makanan': 10, 'favorit': 5, 'adalah': 0, 'nasi': 12, 'goreng': 6, 'pedas': 13, 'manis': 11, 'seperti': 15, 'es': 4, 'krim': 7}\n"
          ]
        }
      ]
    },
    {
      "cell_type": "code",
      "source": [
        "print(\"TF-IDF Matrix:\")\n",
        "print(tfidf_matrix.toarray())"
      ],
      "metadata": {
        "colab": {
          "base_uri": "https://localhost:8080/"
        },
        "id": "ZgQkeCb3tSyb",
        "outputId": "9d907f01-1213-41e4-8906-c58de2cf0558"
      },
      "execution_count": 12,
      "outputs": [
        {
          "output_type": "stream",
          "name": "stdout",
          "text": [
            "TF-IDF Matrix:\n",
            "[[0.         0.49851188 0.         0.         0.         0.\n",
            "  0.         0.         0.         0.61789262 0.         0.\n",
            "  0.         0.         0.34810993 0.         0.49851188]\n",
            " [0.         0.42224214 0.52335825 0.52335825 0.         0.\n",
            "  0.         0.         0.52335825 0.         0.         0.\n",
            "  0.         0.         0.         0.         0.        ]\n",
            " [0.43951606 0.         0.         0.         0.         0.43951606\n",
            "  0.43951606 0.         0.         0.         0.36483803 0.\n",
            "  0.43951606 0.         0.30691325 0.         0.        ]\n",
            " [0.38596041 0.         0.         0.         0.         0.38596041\n",
            "  0.38596041 0.         0.         0.         0.320382   0.\n",
            "  0.38596041 0.47838798 0.26951544 0.         0.        ]\n",
            " [0.         0.         0.         0.         0.42966246 0.\n",
            "  0.         0.42966246 0.         0.         0.28774996 0.42966246\n",
            "  0.         0.         0.24206433 0.42966246 0.34664897]]\n"
          ]
        }
      ]
    },
    {
      "cell_type": "markdown",
      "source": [
        "Bag of Words (BoW)"
      ],
      "metadata": {
        "id": "g8SzTQiNtbzv"
      }
    },
    {
      "cell_type": "code",
      "source": [
        "from sklearn.feature_extraction.text import CountVectorizer"
      ],
      "metadata": {
        "id": "pfGPTtsQtcqq"
      },
      "execution_count": 13,
      "outputs": []
    },
    {
      "cell_type": "code",
      "source": [
        "documents = [\n",
        "    \"Ini adalah contoh dokumen pertama.\",\n",
        "    \"Ini adalah dokumen kedua.\",\n",
        "    \"Ini adalah dokumen ketiga.\",\n",
        "    \"Ini adalah contoh contoh contoh.\"\n",
        "]"
      ],
      "metadata": {
        "id": "q5b5KbAMtyue"
      },
      "execution_count": 14,
      "outputs": []
    },
    {
      "cell_type": "code",
      "source": [
        "vectorizer = CountVectorizer()"
      ],
      "metadata": {
        "id": "rONmmizOtzwx"
      },
      "execution_count": 15,
      "outputs": []
    },
    {
      "cell_type": "code",
      "source": [
        "# Melakukan fitting dan transformasi pada data teks menggunakan CountVectorizer\n",
        "bow_matrix = vectorizer.fit_transform(documents)"
      ],
      "metadata": {
        "id": "r2d617E0t2QJ"
      },
      "execution_count": 17,
      "outputs": []
    },
    {
      "cell_type": "code",
      "source": [
        "bow_matrix.toarray()\n"
      ],
      "metadata": {
        "colab": {
          "base_uri": "https://localhost:8080/"
        },
        "id": "RRXuYIrHt5-R",
        "outputId": "c05278a6-51bf-4008-9383-e8c66c1b0c24"
      },
      "execution_count": 18,
      "outputs": [
        {
          "output_type": "execute_result",
          "data": {
            "text/plain": [
              "array([[1, 1, 1, 1, 0, 0, 1],\n",
              "       [1, 0, 1, 1, 1, 0, 0],\n",
              "       [1, 0, 1, 1, 0, 1, 0],\n",
              "       [1, 3, 0, 1, 0, 0, 0]])"
            ]
          },
          "metadata": {},
          "execution_count": 18
        }
      ]
    },
    {
      "cell_type": "code",
      "source": [
        "features = vectorizer.get_feature_names_out()"
      ],
      "metadata": {
        "id": "WQ_CdDL1uFqq"
      },
      "execution_count": 19,
      "outputs": []
    },
    {
      "cell_type": "code",
      "source": [
        "print(\"Matriks BoW:\")\n",
        "print(bow_matrix.toarray())\n",
        "\n",
        "print(\"\\nDaftar Fitur:\")\n",
        "print(features)"
      ],
      "metadata": {
        "colab": {
          "base_uri": "https://localhost:8080/"
        },
        "id": "y991K8i0uIua",
        "outputId": "5c6d6ab2-2006-4e4c-9530-08450c808e4d"
      },
      "execution_count": 20,
      "outputs": [
        {
          "output_type": "stream",
          "name": "stdout",
          "text": [
            "Matriks BoW:\n",
            "[[1 1 1 1 0 0 1]\n",
            " [1 0 1 1 1 0 0]\n",
            " [1 0 1 1 0 1 0]\n",
            " [1 3 0 1 0 0 0]]\n",
            "\n",
            "Daftar Fitur:\n",
            "['adalah' 'contoh' 'dokumen' 'ini' 'kedua' 'ketiga' 'pertama']\n"
          ]
        }
      ]
    },
    {
      "cell_type": "markdown",
      "source": [
        "N-Gram"
      ],
      "metadata": {
        "id": "bL7yjzvauXQl"
      }
    },
    {
      "cell_type": "code",
      "source": [
        "from nltk.util import ngrams"
      ],
      "metadata": {
        "id": "OSJBbO3DuZE2"
      },
      "execution_count": 31,
      "outputs": []
    },
    {
      "cell_type": "code",
      "source": [
        "sentences = [\n",
        "    \"Saya suka makan bakso enak di warung dekat rumah.\",\n",
        "    \"Nasi goreng adalah salah satu makanan favorit saya.\",\n",
        "    \"Es krim coklat sangat lezat dan menyegarkan.\",\n",
        "    \"Saat hari hujan, saya suka minum teh hangat.\",\n",
        "    \"Pemandangan pegunungan di pagi hari sangat indah.\",\n",
        "    \"Bola basket adalah olahraga favorit saya sejak kecil.\"\n",
        "]"
      ],
      "metadata": {
        "id": "WkiWFPwlubm9"
      },
      "execution_count": 32,
      "outputs": []
    },
    {
      "cell_type": "code",
      "source": [
        "for sentence in sentences:\n",
        "  words = sentence.split()\n",
        "  unigrams = list(ngrams(words, 1))\n",
        "  bigrams = list(ngrams(words, 2))\n",
        "  trigrams = list(ngrams(words, 3))"
      ],
      "metadata": {
        "id": "cPHYslOxueJt"
      },
      "execution_count": 35,
      "outputs": []
    },
    {
      "cell_type": "code",
      "source": [
        "print(\"\\nKalimat:\", sentence)"
      ],
      "metadata": {
        "colab": {
          "base_uri": "https://localhost:8080/"
        },
        "id": "FakqwelbvJf-",
        "outputId": "682deab7-ad5b-406f-8b8b-582fc7c09db7"
      },
      "execution_count": 36,
      "outputs": [
        {
          "output_type": "stream",
          "name": "stdout",
          "text": [
            "\n",
            "Kalimat: Bola basket adalah olahraga favorit saya sejak kecil.\n"
          ]
        }
      ]
    },
    {
      "cell_type": "code",
      "source": [
        "print(\"1-gram:\")\n",
        "for gram in unigrams:\n",
        "    print(gram)"
      ],
      "metadata": {
        "colab": {
          "base_uri": "https://localhost:8080/"
        },
        "id": "G6uA4jW2vT5m",
        "outputId": "138c9210-17d5-4aac-c8bb-5ec7da44e8f7"
      },
      "execution_count": 37,
      "outputs": [
        {
          "output_type": "stream",
          "name": "stdout",
          "text": [
            "1-gram:\n",
            "('Bola',)\n",
            "('basket',)\n",
            "('adalah',)\n",
            "('olahraga',)\n",
            "('favorit',)\n",
            "('saya',)\n",
            "('sejak',)\n",
            "('kecil.',)\n"
          ]
        }
      ]
    },
    {
      "cell_type": "code",
      "source": [
        "print(\"\\n2-gram:\")\n",
        "for gram in bigrams:\n",
        "    print(gram)"
      ],
      "metadata": {
        "colab": {
          "base_uri": "https://localhost:8080/"
        },
        "id": "o3CwcU9ZvW4d",
        "outputId": "1f190016-d977-4073-bdcd-abd58a493f9e"
      },
      "execution_count": 38,
      "outputs": [
        {
          "output_type": "stream",
          "name": "stdout",
          "text": [
            "\n",
            "2-gram:\n",
            "('Bola', 'basket')\n",
            "('basket', 'adalah')\n",
            "('adalah', 'olahraga')\n",
            "('olahraga', 'favorit')\n",
            "('favorit', 'saya')\n",
            "('saya', 'sejak')\n",
            "('sejak', 'kecil.')\n"
          ]
        }
      ]
    },
    {
      "cell_type": "code",
      "source": [
        "print(\"\\n3-gram:\")\n",
        "for gram in trigrams:\n",
        "    print(gram)"
      ],
      "metadata": {
        "colab": {
          "base_uri": "https://localhost:8080/"
        },
        "id": "tAUZWobxvZye",
        "outputId": "bdebb7ad-72b2-41e9-ee25-ae9f6690461e"
      },
      "execution_count": 39,
      "outputs": [
        {
          "output_type": "stream",
          "name": "stdout",
          "text": [
            "\n",
            "3-gram:\n",
            "('Bola', 'basket', 'adalah')\n",
            "('basket', 'adalah', 'olahraga')\n",
            "('adalah', 'olahraga', 'favorit')\n",
            "('olahraga', 'favorit', 'saya')\n",
            "('favorit', 'saya', 'sejak')\n",
            "('saya', 'sejak', 'kecil.')\n"
          ]
        }
      ]
    }
  ]
}